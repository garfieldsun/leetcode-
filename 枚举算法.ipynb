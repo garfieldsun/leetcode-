{
 "cells": [
  {
   "cell_type": "markdown",
   "id": "c9a3dcaf",
   "metadata": {},
   "source": [
    "#  1.两数之和\n",
    "\n",
    "给定一个整数数组 nums 和一个整数目标值 target，请你在该数组中找出 和为目标值 target  的那 两个 整数，并返回它们的数组下标。\n",
    "\n",
    "你可以假设每种输入只会对应一个答案，并且你不能使用两次相同的元素。\n",
    "\n",
    "你可以按任意顺序返回答案。\n",
    "\n",
    "示例 1：\n",
    "\n",
    "输入：nums = [2,7,11,15], target = 9\n",
    "输出：[0,1]\n",
    "解释：因为 nums[0] + nums[1] == 9 ，返回 [0, 1] 。\n",
    "示例 2：\n",
    "\n",
    "输入：nums = [3,2,4], target = 6\n",
    "输出：[1,2]\n",
    "示例 3：\n",
    "\n",
    "输入：nums = [3,3], target = 6\n",
    "输出：[0,1]\n",
    " \n",
    "\n",
    "提示：\n",
    "\n",
    "2 <= nums.length <= 104\n",
    "-109 <= nums[i] <= 109\n",
    "-109 <= target <= 109\n",
    "只会存在一个有效答案\n",
    " \n",
    "\n",
    "进阶：你可以想出一个时间复杂度小于 O(n2) 的算法吗？"
   ]
  },
  {
   "cell_type": "code",
   "execution_count": 1,
   "id": "f4a9a753",
   "metadata": {},
   "outputs": [],
   "source": [
    "nums = [2,7,11,15]\n",
    "target = 9 "
   ]
  },
  {
   "cell_type": "markdown",
   "id": "5707c7ab",
   "metadata": {},
   "source": [
    "### 解法一：\n",
    "解体思路：对数组的数循环遍历相加，两个index，第一个加数i，第二个加数j，i<j<len(nums)"
   ]
  },
  {
   "cell_type": "code",
   "execution_count": 4,
   "id": "fc556ac8",
   "metadata": {},
   "outputs": [],
   "source": [
    "def two_sum(nums, target):\n",
    "    for i in range(len(nums)):\n",
    "        for j in range(i+1,len(nums)):\n",
    "            if nums[i]+nums[j]==target:\n",
    "                return [i,j]"
   ]
  },
  {
   "cell_type": "code",
   "execution_count": 6,
   "id": "cd6e3be8",
   "metadata": {},
   "outputs": [
    {
     "name": "stdout",
     "output_type": "stream",
     "text": [
      "[0, 1]\n"
     ]
    }
   ],
   "source": [
    "print(add_two_num([3,3], 6))"
   ]
  },
  {
   "cell_type": "markdown",
   "id": "f066d721",
   "metadata": {},
   "source": [
    "#  0204. 计数质数\n",
    "给定整数 n ，返回 所有小于非负整数 n 的质数的数量 。\n",
    "示例 1：\n",
    "\n",
    "输入：n = 10\n",
    "输出：4\n",
    "解释：小于 10 的质数一共有 4 个, 它们是 2, 3, 5, 7 。\n",
    "示例 2：\n",
    "\n",
    "输入：n = 0\n",
    "输出：0\n",
    "示例 3：\n",
    "\n",
    "输入：n = 1\n",
    "输出：0\n",
    " \n",
    "\n",
    "提示：\n",
    "\n",
    "0 <= n <= 5 * 106"
   ]
  },
  {
   "cell_type": "code",
   "execution_count": 33,
   "id": "b04c033f",
   "metadata": {},
   "outputs": [],
   "source": [
    "n = 1"
   ]
  },
  {
   "cell_type": "markdown",
   "id": "b51b275c",
   "metadata": {},
   "source": [
    "### 解法：\n",
    "首先质数的定义是除了1 和 本身，没有别的因子能够整除\n",
    "寻找质数的方法：\n",
    "- 质数定义法：判断一个数是否为质数，只需要将它分别除以2到它的平方根的整数，如果都不能整除，则它就是质数。这种方法比较简单直观，但对于较大的数会比较耗时。数大的时候非常耗时\n",
    "\n",
    "-  埃拉托色尼筛法：这是一种基于质数定义的算法，可以在一定范围内找出所有的质数。其基本思想是先列出所有的正整数，然后从2开始，将2的倍数标记为合数，再将下一个未标记的数3作为新的质数，将3的倍数标记为合数，以此类推。这种方法可以大大减少计算量，提高效率。\n"
   ]
  },
  {
   "cell_type": "code",
   "execution_count": 55,
   "id": "58992697",
   "metadata": {},
   "outputs": [],
   "source": [
    "def countPrimes(n):\n",
    "    no_primes=[]\n",
    "    for i in range(2,n+1):\n",
    "        for j in range(i*2,n+1,i):\n",
    "            no_primes.append(j)\n",
    "    if n==0:\n",
    "        return 0\n",
    "    else:\n",
    "        no_primes_lens = len(set(no_primes))\n",
    "        prime_num = n-no_primes_lens-1\n",
    "        return prime_num"
   ]
  },
  {
   "cell_type": "code",
   "execution_count": 57,
   "id": "cc669102",
   "metadata": {},
   "outputs": [
    {
     "data": {
      "text/plain": [
       "1"
      ]
     },
     "execution_count": 57,
     "metadata": {},
     "output_type": "execute_result"
    }
   ],
   "source": [
    "num=countPrimes(2)\n",
    "num"
   ]
  },
  {
   "cell_type": "markdown",
   "id": "67e7cd14",
   "metadata": {},
   "source": [
    "# 1925. 统计平方和三元组的数目\n",
    "一个 平方和三元组 (a,b,c) 指的是满足 a2 + b2 = c2 的 整数 三元组 a，b 和 c 。\n",
    "\n",
    "给你一个整数 n ，请你返回满足 1 <= a, b, c <= n 的 平方和三元组 的数目。\n",
    "\n",
    " \n",
    "\n",
    "示例 1：\n",
    "\n",
    "输入：n = 5\n",
    "输出：2\n",
    "解释：平方和三元组为 (3,4,5) 和 (4,3,5) 。\n",
    "示例 2：\n",
    "\n",
    "输入：n = 10\n",
    "输出：4\n",
    "解释：平方和三元组为 (3,4,5)，(4,3,5)，(6,8,10) 和 (8,6,10) 。\n",
    " \n",
    "\n",
    "提示：\n",
    "\n",
    "1 <= n <= 250"
   ]
  },
  {
   "cell_type": "code",
   "execution_count": 58,
   "id": "4674dad0",
   "metadata": {},
   "outputs": [],
   "source": [
    "n = 5"
   ]
  },
  {
   "cell_type": "markdown",
   "id": "9209ef92",
   "metadata": {},
   "source": [
    "### 解法：\n",
    "在区间[1,n]中判断$a^2+b^2<n$ 并判断这个数是不是完全平方数。若是的话count+1"
   ]
  },
  {
   "cell_type": "code",
   "execution_count": 60,
   "id": "1af84c7e",
   "metadata": {},
   "outputs": [],
   "source": [
    "import math"
   ]
  },
  {
   "cell_type": "code",
   "execution_count": 68,
   "id": "2a0f1f7d",
   "metadata": {},
   "outputs": [],
   "source": [
    "def countTriples(n):\n",
    "    count=0\n",
    "    for a in range(1,n+1):\n",
    "        for b in range(1,n+1):\n",
    "            c= int(math.sqrt(a**2 + b**2))\n",
    "            if c <= n and a**2 + b**2 ==c **2:\n",
    "                count+=1\n",
    "    return count"
   ]
  },
  {
   "cell_type": "code",
   "execution_count": 69,
   "id": "63c129f7",
   "metadata": {},
   "outputs": [
    {
     "data": {
      "text/plain": [
       "4"
      ]
     },
     "execution_count": 69,
     "metadata": {},
     "output_type": "execute_result"
    }
   ],
   "source": [
    "countTriples(10)"
   ]
  },
  {
   "cell_type": "markdown",
   "id": "c2e03cc0",
   "metadata": {},
   "source": [
    "# 2427. 公因子的数目\n",
    "给你两个正整数 a 和 b ，返回 a 和 b 的 公 因子的数目。\n",
    "\n",
    "如果 x 可以同时整除 a 和 b ，则认为 x 是 a 和 b 的一个 公因子 。\n",
    "\n",
    " \n",
    "\n",
    "示例 1：\n",
    "\n",
    "输入：a = 12, b = 6\n",
    "输出：4\n",
    "解释：12 和 6 的公因子是 1、2、3、6 。\n",
    "示例 2：\n",
    "\n",
    "输入：a = 25, b = 30\n",
    "输出：2\n",
    "解释：25 和 30 的公因子是 1、5 。\n",
    " \n",
    "\n",
    "提示：\n",
    "\n",
    "1 <= a, b <= 1000"
   ]
  },
  {
   "cell_type": "markdown",
   "id": "be820d45",
   "metadata": {},
   "source": [
    "### 解法：\n",
    "公因子，就是两个数都能够整除，列举[1,min(a,b)]之间的数，能被a和b同时整除\n",
    "math,gcd可以求得两数之间最大的公因数"
   ]
  },
  {
   "cell_type": "code",
   "execution_count": 75,
   "id": "879393c0",
   "metadata": {},
   "outputs": [],
   "source": [
    "def comFactor(a,b):\n",
    "    count=0\n",
    "    for i in range(1,min(a,b)+1):\n",
    "        if a%i==0 and b%i==0:\n",
    "            count+=1\n",
    "    return count"
   ]
  },
  {
   "cell_type": "code",
   "execution_count": 76,
   "id": "a495b51a",
   "metadata": {},
   "outputs": [
    {
     "data": {
      "text/plain": [
       "4"
      ]
     },
     "execution_count": 76,
     "metadata": {},
     "output_type": "execute_result"
    }
   ],
   "source": [
    "comFactor(12,6)"
   ]
  },
  {
   "cell_type": "markdown",
   "id": "6193ef59",
   "metadata": {},
   "source": [
    "# 2.剑指 Offer 57 - II. 和为s的连续正数序列\n",
    "2.1 题目大意\n",
    "描述：给定一个正整数 target。\n",
    "\n",
    "要求：输出所有和为 target 的连续正整数序列（至少含有两个数）。序列中的数字由小到大排列，不同序列按照首个数字从小到大排列。\n",
    "\n",
    "说明：\n",
    "- $1<=target<=10^5$   \n",
    "\n",
    "示例 1：\n",
    "输入：target = 9\n",
    "输出：[[2,3,4],[4,5]]     \n",
    "示例 2：\n",
    "输入：target = 15\n",
    "输出：[[1,2,3,4,5],[4,5,6],[7,8]]"
   ]
  },
  {
   "cell_type": "markdown",
   "id": "11c4a512",
   "metadata": {},
   "source": [
    "### 解法一：\n",
    "连续区间的话，加数的最大数不可能超过target//2，所以从1开始，循环到target//2"
   ]
  },
  {
   "cell_type": "code",
   "execution_count": 26,
   "id": "02ad95c4",
   "metadata": {},
   "outputs": [],
   "source": [
    "def findContinuesSeq(target):\n",
    "    res=[]\n",
    "    for i in range(1,target//2+1):\n",
    "        cur_sum = i\n",
    "        for j in range(i+1,target):\n",
    "            cur_sum+=j\n",
    "            if cur_sum>target:\n",
    "                break\n",
    "            if cur_sum==target:\n",
    "                cur_res=[]\n",
    "                for k in range(i,j+1):\n",
    "                    cur_res.append(k)\n",
    "                res.append(cur_res)                \n",
    "    return res\n"
   ]
  },
  {
   "cell_type": "code",
   "execution_count": 27,
   "id": "c3a004bb",
   "metadata": {},
   "outputs": [
    {
     "data": {
      "text/plain": [
       "[[2, 3, 4], [4, 5]]"
      ]
     },
     "execution_count": 27,
     "metadata": {},
     "output_type": "execute_result"
    }
   ],
   "source": [
    "findContinuesSeq(9)"
   ]
  },
  {
   "cell_type": "markdown",
   "id": "b60bf02e",
   "metadata": {},
   "source": [
    " ### 解法二：滑窗，也就是双指针法"
   ]
  },
  {
   "cell_type": "code",
   "execution_count": null,
   "id": "bac3446a",
   "metadata": {},
   "outputs": [],
   "source": []
  },
  {
   "cell_type": "markdown",
   "id": "c5805824",
   "metadata": {},
   "source": [
    " # 2249. 统计圆内格点数目\n",
    " 给你一个二维整数数组 circles ，其中 circles[i] = [xi, yi, ri] 表示网格上圆心为 (xi, yi) 且半径为 ri 的第 i 个圆，返回出现在 至少一个 圆内的 格点数目 。\n",
    "\n",
    "注意：\n",
    "\n",
    "格点 是指整数坐标对应的点。\n",
    "圆周上的点 也被视为出现在圆内的点。\n",
    " \n",
    "\n",
    "示例 1：\n",
    "\n",
    "\n",
    "\n",
    "输入：circles = [[2,2,1]]\n",
    "输出：5\n",
    "解释：\n",
    "给定的圆如上图所示。\n",
    "出现在圆内的格点为 (1, 2)、(2, 1)、(2, 2)、(2, 3) 和 (3, 2)，在图中用绿色标识。\n",
    "像 (1, 1) 和 (1, 3) 这样用红色标识的点，并未出现在圆内。\n",
    "因此，出现在至少一个圆内的格点数目是 5 。\n",
    "示例 2：\n",
    "\n",
    "\n",
    "\n",
    "输入：circles = [[2,2,2],[3,4,1]]\n",
    "输出：16\n",
    "解释：\n",
    "给定的圆如上图所示。\n",
    "共有 16 个格点出现在至少一个圆内。\n",
    "其中部分点的坐标是 (0, 2)、(2, 0)、(2, 4)、(3, 2) 和 (4, 4) 。\n",
    " \n",
    "\n",
    "提示：\n",
    "\n",
    "1 <= circles.length <= 200\n",
    "circles[i].length == 3\n",
    "1 <= xi, yi <= 100\n",
    "1 <= ri <= min(xi, yi)"
   ]
  },
  {
   "cell_type": "markdown",
   "id": "3b7a5971",
   "metadata": {},
   "source": [
    "### 解法：\n",
    "根据圆的大小和半径，枚举所有的格点，判断是否在圆内，到圆心距离小于半径\n",
    "- 首先，先框出格点的取值范围,【圆心坐标最小（1，1），最大（100，100），半径大小也是1到100，因此网格的大小$200*200$】。\n",
    "- 再计算格点到圆心的距离"
   ]
  },
  {
   "cell_type": "code",
   "execution_count": 32,
   "id": "4fef8b4c",
   "metadata": {},
   "outputs": [],
   "source": [
    "def countPoint(circles):\n",
    "    max_x=0\n",
    "    max_y=0\n",
    "    for x,y,r in circles:\n",
    "        max_x=max(x+r,max_x)\n",
    "        max_y=max(y+r,max_y)\n",
    "\n",
    "    count=0\n",
    "    for x in range(max_x+1):\n",
    "        for y in range(max_y+1):\n",
    "            for x0,y0,r in circles:\n",
    "                if (x-x0)**2+(y-y0)**2 <=r**2:\n",
    "                    count+=1\n",
    "                    break\n",
    "    return count\n",
    "                "
   ]
  },
  {
   "cell_type": "code",
   "execution_count": 36,
   "id": "5d65a781",
   "metadata": {},
   "outputs": [],
   "source": [
    "circles = [[2,2,1]]"
   ]
  },
  {
   "cell_type": "code",
   "execution_count": 37,
   "id": "625d8ffe",
   "metadata": {},
   "outputs": [
    {
     "data": {
      "text/plain": [
       "5"
      ]
     },
     "execution_count": 37,
     "metadata": {},
     "output_type": "execute_result"
    }
   ],
   "source": [
    "countPoint(circles) "
   ]
  },
  {
   "cell_type": "code",
   "execution_count": null,
   "id": "fa583816",
   "metadata": {},
   "outputs": [],
   "source": []
  }
 ],
 "metadata": {
  "kernelspec": {
   "display_name": "Python 3 (ipykernel)",
   "language": "python",
   "name": "python3"
  },
  "language_info": {
   "codemirror_mode": {
    "name": "ipython",
    "version": 3
   },
   "file_extension": ".py",
   "mimetype": "text/x-python",
   "name": "python",
   "nbconvert_exporter": "python",
   "pygments_lexer": "ipython3",
   "version": "3.10.9"
  }
 },
 "nbformat": 4,
 "nbformat_minor": 5
}
